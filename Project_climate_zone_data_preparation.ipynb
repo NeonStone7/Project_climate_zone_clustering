{
 "cells": [
  {
   "cell_type": "code",
   "execution_count": 2,
   "id": "cb6e06b8",
   "metadata": {},
   "outputs": [],
   "source": [
    "import pandas as pd\n",
    "import tarfile\n",
    "import numpy as np\n",
    "import os"
   ]
  },
  {
   "cell_type": "code",
   "execution_count": 2,
   "id": "7449a185",
   "metadata": {},
   "outputs": [],
   "source": [
    "# open the tar.gz file downloaded from the website\n",
    "tar = tarfile.open(\"C:/Users/Oamen/OneDrive/Documents/DATA PROJECTS/Project_Climate_zone_clustering/datasets/gsoy-latest.tar.gz\")"
   ]
  },
  {
   "cell_type": "code",
   "execution_count": 3,
   "id": "181b9bf2",
   "metadata": {},
   "outputs": [],
   "source": [
    "# # extract files into the folder this notebook is from\n",
    "# tar.extractall()\n",
    "# tar.close()"
   ]
  },
  {
   "cell_type": "code",
   "execution_count": 3,
   "id": "6ebc6868",
   "metadata": {},
   "outputs": [
    {
     "data": {
      "text/plain": [
       "84258"
      ]
     },
     "execution_count": 3,
     "metadata": {},
     "output_type": "execute_result"
    }
   ],
   "source": [
    "# list all csv files\n",
    "csv_files = [file for file in os.listdir() if 'csv' in file]\n",
    "len(csv_files)"
   ]
  },
  {
   "cell_type": "code",
   "execution_count": 4,
   "id": "3fddec12",
   "metadata": {},
   "outputs": [
    {
     "name": "stdout",
     "output_type": "stream",
     "text": [
      "batch...30000\n",
      "batch...35000\n",
      "batch...40000\n",
      "batch...45000\n",
      "batch...50000\n",
      "batch...55000\n",
      "batch...60000\n",
      "batch...65000\n",
      "batch...70000\n"
     ]
    }
   ],
   "source": [
    "# read data and concat to one source table\n",
    "\n",
    "main = pd.read_csv(csv_files[0])\n",
    "\n",
    "for index, file_path in enumerate(csv_files[30000:], start = 30000):\n",
    "    \n",
    "    temp = pd.read_csv(file_path)\n",
    "    \n",
    "    main = pd.concat([main, temp], axis = 0)\n",
    "\n",
    "    if index%5000 == 0:\n",
    "\n",
    "        print(f'batch...{index}')\n",
    "\n",
    "        main.to_csv(f\"C:/Users/Oamen/OneDrive/Documents/DATA PROJECTS/Project_Climate_zone_clustering/dataset_merged_batch_{index}.csv\", index = False)"
   ]
  },
  {
   "cell_type": "code",
   "execution_count": null,
   "id": "56138030",
   "metadata": {},
   "outputs": [],
   "source": [
    "main[:3]"
   ]
  },
  {
   "cell_type": "code",
   "execution_count": null,
   "id": "39a0627d",
   "metadata": {},
   "outputs": [],
   "source": [
    "main.head()"
   ]
  },
  {
   "cell_type": "code",
   "execution_count": null,
   "id": "5af4e1c9",
   "metadata": {},
   "outputs": [],
   "source": [
    "# save data\n",
    "\n",
    "main.to_csv(\"C:/Users/Oamen/OneDrive/Documents/DATA PROJECTS/Project_Climate_zone_clustering/dataset_merged.csv\", index = False)"
   ]
  },
  {
   "cell_type": "code",
   "execution_count": null,
   "id": "b1220572",
   "metadata": {},
   "outputs": [],
   "source": [
    "main.shape"
   ]
  }
 ],
 "metadata": {
  "kernelspec": {
   "display_name": "Python 3 (ipykernel)",
   "language": "python",
   "name": "python3"
  },
  "language_info": {
   "codemirror_mode": {
    "name": "ipython",
    "version": 3
   },
   "file_extension": ".py",
   "mimetype": "text/x-python",
   "name": "python",
   "nbconvert_exporter": "python",
   "pygments_lexer": "ipython3",
   "version": "3.10.9"
  }
 },
 "nbformat": 4,
 "nbformat_minor": 5
}
